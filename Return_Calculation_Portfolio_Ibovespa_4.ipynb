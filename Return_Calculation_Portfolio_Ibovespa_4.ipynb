{
  "nbformat": 4,
  "nbformat_minor": 0,
  "metadata": {
    "kernelspec": {
      "display_name": "Python 3",
      "language": "python",
      "name": "python3"
    },
    "language_info": {
      "codemirror_mode": {
        "name": "ipython",
        "version": 3
      },
      "file_extension": ".py",
      "mimetype": "text/x-python",
      "name": "python",
      "nbconvert_exporter": "python",
      "pygments_lexer": "ipython3",
      "version": "3.8.3"
    },
    "colab": {
      "name": "Return Calculation_Portfolio_Ibovespa_4.ipynb",
      "provenance": [],
      "include_colab_link": true
    }
  },
  "cells": [
    {
      "cell_type": "markdown",
      "metadata": {
        "id": "view-in-github",
        "colab_type": "text"
      },
      "source": [
        "<a href=\"https://colab.research.google.com/github/estevaovukelic/Return_Calculation_Portfolio_Ibovespa_4/blob/main/Return_Calculation_Portfolio_Ibovespa_4.ipynb\" target=\"_parent\"><img src=\"https://colab.research.google.com/assets/colab-badge.svg\" alt=\"Open In Colab\"/></a>"
      ]
    },
    {
      "cell_type": "markdown",
      "metadata": {
        "id": "fTeakvMJ-MxW"
      },
      "source": [
        "# Securities Portfolio - Return Calculation"
      ]
    },
    {
      "cell_type": "code",
      "metadata": {
        "id": "rrOnm24fBT7O",
        "colab": {
          "base_uri": "https://localhost:8080/"
        },
        "outputId": "d31eb12c-32be-4f7c-cf35-ac459c08d580"
      },
      "source": [
        "from google.colab import drive\n",
        "drive.mount('/content/drive')"
      ],
      "execution_count": null,
      "outputs": [
        {
          "output_type": "stream",
          "text": [
            "Mounted at /content/drive\n"
          ],
          "name": "stdout"
        }
      ]
    },
    {
      "cell_type": "code",
      "metadata": {
        "id": "xciv3IuS-Mxf"
      },
      "source": [
        "import numpy as np\n",
        "import pandas as pd\n",
        "from pandas_datareader import data as wb\n",
        "import matplotlib.pyplot as plt\n",
        "import seaborn as sns"
      ],
      "execution_count": null,
      "outputs": []
    },
    {
      "cell_type": "markdown",
      "metadata": {
        "id": "FcgvsLOW-Mxg"
      },
      "source": [
        "## Carteira composta pelas ações da: \n",
        "### JBS S.A., \n",
        "### Marfrig Global Foods S.A., \n",
        "### Lojas Americanas S.A. e \n",
        "### Ultrapar Participações S.A.\n"
      ]
    },
    {
      "cell_type": "markdown",
      "metadata": {
        "id": "uWYre0oj-Mxh"
      },
      "source": [
        "***"
      ]
    },
    {
      "cell_type": "markdown",
      "metadata": {
        "id": "_hDBSX1P-Mxh"
      },
      "source": [
        "## Carregar dados do Yahoo Finance\n",
        "https://finance.yahoo.com/"
      ]
    },
    {
      "cell_type": "code",
      "metadata": {
        "id": "MstHYca7-Mxh"
      },
      "source": [
        "tickers = ['JBSS3.SA', 'MRFG3.SA', 'LAME4.SA', 'UGPA3.SA']\n",
        "port = pd.DataFrame()\n",
        "for t in tickers:\n",
        "    port[t] = wb.DataReader(t, data_source='yahoo', start='2012-1-1')['Adj Close']"
      ],
      "execution_count": null,
      "outputs": []
    },
    {
      "cell_type": "code",
      "metadata": {
        "colab": {
          "base_uri": "https://localhost:8080/"
        },
        "id": "oicb9YJd-Mxi",
        "outputId": "cbe1b917-7552-4840-9193-aad1ed1e68fa"
      },
      "source": [
        "port.info()"
      ],
      "execution_count": null,
      "outputs": [
        {
          "output_type": "stream",
          "text": [
            "<class 'pandas.core.frame.DataFrame'>\n",
            "DatetimeIndex: 2254 entries, 2012-01-02 to 2021-02-08\n",
            "Data columns (total 4 columns):\n",
            " #   Column    Non-Null Count  Dtype  \n",
            "---  ------    --------------  -----  \n",
            " 0   JBSS3.SA  2254 non-null   float64\n",
            " 1   MRFG3.SA  2254 non-null   float64\n",
            " 2   LAME4.SA  2254 non-null   float64\n",
            " 3   UGPA3.SA  2254 non-null   float64\n",
            "dtypes: float64(4)\n",
            "memory usage: 88.0 KB\n"
          ],
          "name": "stdout"
        }
      ]
    },
    {
      "cell_type": "code",
      "metadata": {
        "colab": {
          "base_uri": "https://localhost:8080/",
          "height": 227
        },
        "id": "Ss6QL-6m-Mxj",
        "outputId": "6de6420d-ea6e-4058-9d81-ba59538af15f"
      },
      "source": [
        "port.head()"
      ],
      "execution_count": null,
      "outputs": [
        {
          "output_type": "execute_result",
          "data": {
            "text/html": [
              "<div>\n",
              "<style scoped>\n",
              "    .dataframe tbody tr th:only-of-type {\n",
              "        vertical-align: middle;\n",
              "    }\n",
              "\n",
              "    .dataframe tbody tr th {\n",
              "        vertical-align: top;\n",
              "    }\n",
              "\n",
              "    .dataframe thead th {\n",
              "        text-align: right;\n",
              "    }\n",
              "</style>\n",
              "<table border=\"1\" class=\"dataframe\">\n",
              "  <thead>\n",
              "    <tr style=\"text-align: right;\">\n",
              "      <th></th>\n",
              "      <th>JBSS3.SA</th>\n",
              "      <th>MRFG3.SA</th>\n",
              "      <th>LAME4.SA</th>\n",
              "      <th>UGPA3.SA</th>\n",
              "    </tr>\n",
              "    <tr>\n",
              "      <th>Date</th>\n",
              "      <th></th>\n",
              "      <th></th>\n",
              "      <th></th>\n",
              "      <th></th>\n",
              "    </tr>\n",
              "  </thead>\n",
              "  <tbody>\n",
              "    <tr>\n",
              "      <th>2012-01-02</th>\n",
              "      <td>5.043145</td>\n",
              "      <td>8.99</td>\n",
              "      <td>7.246142</td>\n",
              "      <td>12.944519</td>\n",
              "    </tr>\n",
              "    <tr>\n",
              "      <th>2012-01-03</th>\n",
              "      <td>5.195695</td>\n",
              "      <td>8.94</td>\n",
              "      <td>7.275459</td>\n",
              "      <td>13.316558</td>\n",
              "    </tr>\n",
              "    <tr>\n",
              "      <th>2012-01-04</th>\n",
              "      <td>5.294405</td>\n",
              "      <td>9.05</td>\n",
              "      <td>7.260799</td>\n",
              "      <td>13.668378</td>\n",
              "    </tr>\n",
              "    <tr>\n",
              "      <th>2012-01-05</th>\n",
              "      <td>5.384140</td>\n",
              "      <td>8.95</td>\n",
              "      <td>7.265685</td>\n",
              "      <td>13.571325</td>\n",
              "    </tr>\n",
              "    <tr>\n",
              "      <th>2012-01-06</th>\n",
              "      <td>5.446956</td>\n",
              "      <td>8.94</td>\n",
              "      <td>7.255913</td>\n",
              "      <td>13.462139</td>\n",
              "    </tr>\n",
              "  </tbody>\n",
              "</table>\n",
              "</div>"
            ],
            "text/plain": [
              "            JBSS3.SA  MRFG3.SA  LAME4.SA   UGPA3.SA\n",
              "Date                                               \n",
              "2012-01-02  5.043145      8.99  7.246142  12.944519\n",
              "2012-01-03  5.195695      8.94  7.275459  13.316558\n",
              "2012-01-04  5.294405      9.05  7.260799  13.668378\n",
              "2012-01-05  5.384140      8.95  7.265685  13.571325\n",
              "2012-01-06  5.446956      8.94  7.255913  13.462139"
            ]
          },
          "metadata": {
            "tags": []
          },
          "execution_count": 27
        }
      ]
    },
    {
      "cell_type": "code",
      "metadata": {
        "colab": {
          "base_uri": "https://localhost:8080/",
          "height": 227
        },
        "id": "wRtplkP9-Mxk",
        "outputId": "7865ede4-d9a6-4233-fd32-d2f5261b33cf"
      },
      "source": [
        "port.tail()"
      ],
      "execution_count": null,
      "outputs": [
        {
          "output_type": "execute_result",
          "data": {
            "text/html": [
              "<div>\n",
              "<style scoped>\n",
              "    .dataframe tbody tr th:only-of-type {\n",
              "        vertical-align: middle;\n",
              "    }\n",
              "\n",
              "    .dataframe tbody tr th {\n",
              "        vertical-align: top;\n",
              "    }\n",
              "\n",
              "    .dataframe thead th {\n",
              "        text-align: right;\n",
              "    }\n",
              "</style>\n",
              "<table border=\"1\" class=\"dataframe\">\n",
              "  <thead>\n",
              "    <tr style=\"text-align: right;\">\n",
              "      <th></th>\n",
              "      <th>JBSS3.SA</th>\n",
              "      <th>MRFG3.SA</th>\n",
              "      <th>LAME4.SA</th>\n",
              "      <th>UGPA3.SA</th>\n",
              "    </tr>\n",
              "    <tr>\n",
              "      <th>Date</th>\n",
              "      <th></th>\n",
              "      <th></th>\n",
              "      <th></th>\n",
              "      <th></th>\n",
              "    </tr>\n",
              "  </thead>\n",
              "  <tbody>\n",
              "    <tr>\n",
              "      <th>2021-02-02</th>\n",
              "      <td>24.52</td>\n",
              "      <td>13.55</td>\n",
              "      <td>25.250000</td>\n",
              "      <td>22.830000</td>\n",
              "    </tr>\n",
              "    <tr>\n",
              "      <th>2021-02-03</th>\n",
              "      <td>24.83</td>\n",
              "      <td>14.07</td>\n",
              "      <td>25.250000</td>\n",
              "      <td>23.450001</td>\n",
              "    </tr>\n",
              "    <tr>\n",
              "      <th>2021-02-04</th>\n",
              "      <td>25.10</td>\n",
              "      <td>14.28</td>\n",
              "      <td>24.809999</td>\n",
              "      <td>23.309999</td>\n",
              "    </tr>\n",
              "    <tr>\n",
              "      <th>2021-02-05</th>\n",
              "      <td>25.24</td>\n",
              "      <td>14.37</td>\n",
              "      <td>24.750000</td>\n",
              "      <td>23.920000</td>\n",
              "    </tr>\n",
              "    <tr>\n",
              "      <th>2021-02-08</th>\n",
              "      <td>25.60</td>\n",
              "      <td>14.43</td>\n",
              "      <td>24.520000</td>\n",
              "      <td>23.860001</td>\n",
              "    </tr>\n",
              "  </tbody>\n",
              "</table>\n",
              "</div>"
            ],
            "text/plain": [
              "            JBSS3.SA  MRFG3.SA   LAME4.SA   UGPA3.SA\n",
              "Date                                                \n",
              "2021-02-02     24.52     13.55  25.250000  22.830000\n",
              "2021-02-03     24.83     14.07  25.250000  23.450001\n",
              "2021-02-04     25.10     14.28  24.809999  23.309999\n",
              "2021-02-05     25.24     14.37  24.750000  23.920000\n",
              "2021-02-08     25.60     14.43  24.520000  23.860001"
            ]
          },
          "metadata": {
            "tags": []
          },
          "execution_count": 28
        }
      ]
    },
    {
      "cell_type": "markdown",
      "metadata": {
        "id": "GYwa_krY-Mxk"
      },
      "source": [
        "### Normalização para 100:\n",
        "\n",
        "\n",
        "$$\\frac {P_t}{P_0} * 100\n",
        "$$"
      ]
    },
    {
      "cell_type": "code",
      "metadata": {
        "colab": {
          "base_uri": "https://localhost:8080/"
        },
        "id": "6AUeASWA-Mxk",
        "outputId": "b9f65d22-2924-40ff-bcae-1d6c11e7bc22"
      },
      "source": [
        "port.iloc[0]"
      ],
      "execution_count": null,
      "outputs": [
        {
          "output_type": "execute_result",
          "data": {
            "text/plain": [
              "JBSS3.SA     5.043145\n",
              "MRFG3.SA     8.990000\n",
              "LAME4.SA     7.246142\n",
              "UGPA3.SA    12.944519\n",
              "Name: 2012-01-02 00:00:00, dtype: float64"
            ]
          },
          "metadata": {
            "tags": []
          },
          "execution_count": 29
        }
      ]
    },
    {
      "cell_type": "code",
      "metadata": {
        "colab": {
          "base_uri": "https://localhost:8080/",
          "height": 366
        },
        "id": "tWjizQmD-Mxl",
        "outputId": "c30f76bf-8698-4037-b845-32538c3d4d46"
      },
      "source": [
        "(port / port.iloc[0] * 100).plot(figsize = (15, 6));\n",
        "plt.show()"
      ],
      "execution_count": null,
      "outputs": [
        {
          "output_type": "display_data",
          "data": {
            "image/png": "[encoded data removed]",
            "text/plain": [
              "<Figure size 1080x432 with 1 Axes>"
            ]
          },
          "metadata": {
            "tags": [],
            "needs_background": "light"
          }
        }
      ]
    },
    {
      "cell_type": "markdown",
      "metadata": {
        "id": "t9f3xQeF-Mxl"
      },
      "source": [
        "### Cálculo do Retorno Simples do Portfólio de Ações"
      ]
    },
    {
      "cell_type": "code",
      "metadata": {
        "colab": {
          "base_uri": "https://localhost:8080/",
          "height": 227
        },
        "id": "kJrx94qc-Mxl",
        "outputId": "31ce1bb0-7c0c-400e-a208-0a7aa7b68827"
      },
      "source": [
        "perform = (port / port.shift(1)) - 1\n",
        "perform.head()"
      ],
      "execution_count": null,
      "outputs": [
        {
          "output_type": "execute_result",
          "data": {
            "text/html": [
              "<div>\n",
              "<style scoped>\n",
              "    .dataframe tbody tr th:only-of-type {\n",
              "        vertical-align: middle;\n",
              "    }\n",
              "\n",
              "    .dataframe tbody tr th {\n",
              "        vertical-align: top;\n",
              "    }\n",
              "\n",
              "    .dataframe thead th {\n",
              "        text-align: right;\n",
              "    }\n",
              "</style>\n",
              "<table border=\"1\" class=\"dataframe\">\n",
              "  <thead>\n",
              "    <tr style=\"text-align: right;\">\n",
              "      <th></th>\n",
              "      <th>JBSS3.SA</th>\n",
              "      <th>MRFG3.SA</th>\n",
              "      <th>LAME4.SA</th>\n",
              "      <th>UGPA3.SA</th>\n",
              "    </tr>\n",
              "    <tr>\n",
              "      <th>Date</th>\n",
              "      <th></th>\n",
              "      <th></th>\n",
              "      <th></th>\n",
              "      <th></th>\n",
              "    </tr>\n",
              "  </thead>\n",
              "  <tbody>\n",
              "    <tr>\n",
              "      <th>2012-01-02</th>\n",
              "      <td>NaN</td>\n",
              "      <td>NaN</td>\n",
              "      <td>NaN</td>\n",
              "      <td>NaN</td>\n",
              "    </tr>\n",
              "    <tr>\n",
              "      <th>2012-01-03</th>\n",
              "      <td>0.030249</td>\n",
              "      <td>-0.005562</td>\n",
              "      <td>0.004046</td>\n",
              "      <td>0.028741</td>\n",
              "    </tr>\n",
              "    <tr>\n",
              "      <th>2012-01-04</th>\n",
              "      <td>0.018998</td>\n",
              "      <td>0.012304</td>\n",
              "      <td>-0.002015</td>\n",
              "      <td>0.026420</td>\n",
              "    </tr>\n",
              "    <tr>\n",
              "      <th>2012-01-05</th>\n",
              "      <td>0.016949</td>\n",
              "      <td>-0.011050</td>\n",
              "      <td>0.000673</td>\n",
              "      <td>-0.007101</td>\n",
              "    </tr>\n",
              "    <tr>\n",
              "      <th>2012-01-06</th>\n",
              "      <td>0.011667</td>\n",
              "      <td>-0.001117</td>\n",
              "      <td>-0.001345</td>\n",
              "      <td>-0.008045</td>\n",
              "    </tr>\n",
              "  </tbody>\n",
              "</table>\n",
              "</div>"
            ],
            "text/plain": [
              "            JBSS3.SA  MRFG3.SA  LAME4.SA  UGPA3.SA\n",
              "Date                                              \n",
              "2012-01-02       NaN       NaN       NaN       NaN\n",
              "2012-01-03  0.030249 -0.005562  0.004046  0.028741\n",
              "2012-01-04  0.018998  0.012304 -0.002015  0.026420\n",
              "2012-01-05  0.016949 -0.011050  0.000673 -0.007101\n",
              "2012-01-06  0.011667 -0.001117 -0.001345 -0.008045"
            ]
          },
          "metadata": {
            "tags": []
          },
          "execution_count": 31
        }
      ]
    },
    {
      "cell_type": "code",
      "metadata": {
        "colab": {
          "base_uri": "https://localhost:8080/",
          "height": 227
        },
        "id": "LT7z0sxP-Mxm",
        "outputId": "1d13135f-5d34-4764-8dfb-fa2a2412a010"
      },
      "source": [
        "perform.tail()"
      ],
      "execution_count": null,
      "outputs": [
        {
          "output_type": "execute_result",
          "data": {
            "text/html": [
              "<div>\n",
              "<style scoped>\n",
              "    .dataframe tbody tr th:only-of-type {\n",
              "        vertical-align: middle;\n",
              "    }\n",
              "\n",
              "    .dataframe tbody tr th {\n",
              "        vertical-align: top;\n",
              "    }\n",
              "\n",
              "    .dataframe thead th {\n",
              "        text-align: right;\n",
              "    }\n",
              "</style>\n",
              "<table border=\"1\" class=\"dataframe\">\n",
              "  <thead>\n",
              "    <tr style=\"text-align: right;\">\n",
              "      <th></th>\n",
              "      <th>JBSS3.SA</th>\n",
              "      <th>MRFG3.SA</th>\n",
              "      <th>LAME4.SA</th>\n",
              "      <th>UGPA3.SA</th>\n",
              "    </tr>\n",
              "    <tr>\n",
              "      <th>Date</th>\n",
              "      <th></th>\n",
              "      <th></th>\n",
              "      <th></th>\n",
              "      <th></th>\n",
              "    </tr>\n",
              "  </thead>\n",
              "  <tbody>\n",
              "    <tr>\n",
              "      <th>2021-02-02</th>\n",
              "      <td>0.011969</td>\n",
              "      <td>0.018032</td>\n",
              "      <td>0.055161</td>\n",
              "      <td>0.027453</td>\n",
              "    </tr>\n",
              "    <tr>\n",
              "      <th>2021-02-03</th>\n",
              "      <td>0.012643</td>\n",
              "      <td>0.038376</td>\n",
              "      <td>0.000000</td>\n",
              "      <td>0.027157</td>\n",
              "    </tr>\n",
              "    <tr>\n",
              "      <th>2021-02-04</th>\n",
              "      <td>0.010874</td>\n",
              "      <td>0.014925</td>\n",
              "      <td>-0.017426</td>\n",
              "      <td>-0.005970</td>\n",
              "    </tr>\n",
              "    <tr>\n",
              "      <th>2021-02-05</th>\n",
              "      <td>0.005578</td>\n",
              "      <td>0.006303</td>\n",
              "      <td>-0.002418</td>\n",
              "      <td>0.026169</td>\n",
              "    </tr>\n",
              "    <tr>\n",
              "      <th>2021-02-08</th>\n",
              "      <td>0.014263</td>\n",
              "      <td>0.004175</td>\n",
              "      <td>-0.009293</td>\n",
              "      <td>-0.002508</td>\n",
              "    </tr>\n",
              "  </tbody>\n",
              "</table>\n",
              "</div>"
            ],
            "text/plain": [
              "            JBSS3.SA  MRFG3.SA  LAME4.SA  UGPA3.SA\n",
              "Date                                              \n",
              "2021-02-02  0.011969  0.018032  0.055161  0.027453\n",
              "2021-02-03  0.012643  0.038376  0.000000  0.027157\n",
              "2021-02-04  0.010874  0.014925 -0.017426 -0.005970\n",
              "2021-02-05  0.005578  0.006303 -0.002418  0.026169\n",
              "2021-02-08  0.014263  0.004175 -0.009293 -0.002508"
            ]
          },
          "metadata": {
            "tags": []
          },
          "execution_count": 32
        }
      ]
    },
    {
      "cell_type": "code",
      "metadata": {
        "scrolled": true,
        "colab": {
          "base_uri": "https://localhost:8080/"
        },
        "id": "zjJey5jX-Mxm",
        "outputId": "32c4a41b-345a-4393-8d06-e7e15c915818"
      },
      "source": [
        "perform_anual = perform.mean()* 250\n",
        "perform_anual"
      ],
      "execution_count": null,
      "outputs": [
        {
          "output_type": "execute_result",
          "data": {
            "text/plain": [
              "JBSS3.SA    0.304888\n",
              "MRFG3.SA    0.167478\n",
              "LAME4.SA    0.204335\n",
              "UGPA3.SA    0.131478\n",
              "dtype: float64"
            ]
          },
          "metadata": {
            "tags": []
          },
          "execution_count": 33
        }
      ]
    },
    {
      "cell_type": "markdown",
      "metadata": {
        "id": "yFk_GhMq-Mxn"
      },
      "source": [
        "### Performance da taxa de retorno simples anual das ações em ordem decrescente. "
      ]
    },
    {
      "cell_type": "code",
      "metadata": {
        "colab": {
          "base_uri": "https://localhost:8080/"
        },
        "id": "L_eOXqZa-Mxn",
        "outputId": "fa1e6e0b-6e72-414e-8037-d28f87b7301d"
      },
      "source": [
        "perform_anual.sort_values(ascending=False)"
      ],
      "execution_count": null,
      "outputs": [
        {
          "output_type": "execute_result",
          "data": {
            "text/plain": [
              "JBSS3.SA    0.304888\n",
              "LAME4.SA    0.204335\n",
              "MRFG3.SA    0.167478\n",
              "UGPA3.SA    0.131478\n",
              "dtype: float64"
            ]
          },
          "metadata": {
            "tags": []
          },
          "execution_count": 34
        }
      ]
    },
    {
      "cell_type": "markdown",
      "metadata": {
        "id": "IRN4BE_e-Mxn"
      },
      "source": [
        "***"
      ]
    },
    {
      "cell_type": "markdown",
      "metadata": {
        "id": "aSdqHnz9-Mxn"
      },
      "source": [
        "### Composição da carteira 'A' de ações: 55% da JBS, 5% da Marfrig, 5% Lojas Americanas e 35% Ultrapar."
      ]
    },
    {
      "cell_type": "code",
      "metadata": {
        "colab": {
          "base_uri": "https://localhost:8080/",
          "height": 167
        },
        "id": "iG8YP-zw-Mxo",
        "outputId": "60d1507d-05bd-4703-8f1d-8967e9f41ce2"
      },
      "source": [
        "distrib_A = pd.DataFrame([[\"JBS\",0.55],[ \"MARFRIG\", 0.05],[\"AMERICANAS\", 0.05],[\"ULTRAPAR\",0.35]],index=range(0,4), columns= ['Ação', 'Peso %'])\n",
        "distrib_A"
      ],
      "execution_count": null,
      "outputs": [
        {
          "output_type": "execute_result",
          "data": {
            "text/html": [
              "<div>\n",
              "<style scoped>\n",
              "    .dataframe tbody tr th:only-of-type {\n",
              "        vertical-align: middle;\n",
              "    }\n",
              "\n",
              "    .dataframe tbody tr th {\n",
              "        vertical-align: top;\n",
              "    }\n",
              "\n",
              "    .dataframe thead th {\n",
              "        text-align: right;\n",
              "    }\n",
              "</style>\n",
              "<table border=\"1\" class=\"dataframe\">\n",
              "  <thead>\n",
              "    <tr style=\"text-align: right;\">\n",
              "      <th></th>\n",
              "      <th>Ação</th>\n",
              "      <th>Peso %</th>\n",
              "    </tr>\n",
              "  </thead>\n",
              "  <tbody>\n",
              "    <tr>\n",
              "      <th>0</th>\n",
              "      <td>JBS</td>\n",
              "      <td>0.55</td>\n",
              "    </tr>\n",
              "    <tr>\n",
              "      <th>1</th>\n",
              "      <td>MARFRIG</td>\n",
              "      <td>0.05</td>\n",
              "    </tr>\n",
              "    <tr>\n",
              "      <th>2</th>\n",
              "      <td>AMERICANAS</td>\n",
              "      <td>0.05</td>\n",
              "    </tr>\n",
              "    <tr>\n",
              "      <th>3</th>\n",
              "      <td>ULTRAPAR</td>\n",
              "      <td>0.35</td>\n",
              "    </tr>\n",
              "  </tbody>\n",
              "</table>\n",
              "</div>"
            ],
            "text/plain": [
              "         Ação  Peso %\n",
              "0         JBS    0.55\n",
              "1     MARFRIG    0.05\n",
              "2  AMERICANAS    0.05\n",
              "3    ULTRAPAR    0.35"
            ]
          },
          "metadata": {
            "tags": []
          },
          "execution_count": 35
        }
      ]
    },
    {
      "cell_type": "code",
      "metadata": {
        "colab": {
          "base_uri": "https://localhost:8080/",
          "height": 278
        },
        "id": "iSurp2mX-Mxo",
        "outputId": "6a521251-7a32-4156-8c59-d194585fd6a1"
      },
      "source": [
        "sns.barplot(x= distrib_A[\"Ação\"], y=distrib_A[\"Peso %\"], palette=\"rocket\");"
      ],
      "execution_count": null,
      "outputs": [
        {
          "output_type": "display_data",
          "data": {
            "image/png": "[encoded data removed]",
            "text/plain": [
              "<Figure size 432x288 with 1 Axes>"
            ]
          },
          "metadata": {
            "tags": [],
            "needs_background": "light"
          }
        }
      ]
    },
    {
      "cell_type": "markdown",
      "metadata": {
        "id": "ydKL4GdK-Mxo"
      },
      "source": [
        "### Performance Anual da Carteira A:"
      ]
    },
    {
      "cell_type": "code",
      "metadata": {
        "colab": {
          "base_uri": "https://localhost:8080/"
        },
        "id": "Nfp43VSy-Mxp",
        "outputId": "03a7d447-ac8c-4ba7-d9cb-7d4b73ae0c7d"
      },
      "source": [
        "np.dot(perform, distrib_A['Peso %'])"
      ],
      "execution_count": null,
      "outputs": [
        {
          "output_type": "execute_result",
          "data": {
            "text/plain": [
              "array([       nan, 0.02662047, 0.02021047, ..., 0.00376609, 0.01242109,\n",
              "       0.00671091])"
            ]
          },
          "metadata": {
            "tags": []
          },
          "execution_count": 37
        }
      ]
    },
    {
      "cell_type": "code",
      "metadata": {
        "colab": {
          "base_uri": "https://localhost:8080/"
        },
        "id": "flqn5hYp-Mxp",
        "outputId": "53aa513f-a8ec-4e59-d251-35986377efec"
      },
      "source": [
        "np.dot(perform_anual, distrib_A['Peso %'])"
      ],
      "execution_count": null,
      "outputs": [
        {
          "output_type": "execute_result",
          "data": {
            "text/plain": [
              "0.23229632356768742"
            ]
          },
          "metadata": {
            "tags": []
          },
          "execution_count": 38
        }
      ]
    },
    {
      "cell_type": "code",
      "metadata": {
        "colab": {
          "base_uri": "https://localhost:8080/"
        },
        "id": "hgcMLzVq-Mxp",
        "outputId": "82ef5ba2-b44a-4cbc-a677-bcdbc4d74651"
      },
      "source": [
        "port_a = str(round(np.dot(perform_anual, distrib_A['Peso %']), 4)*100 ) + ' %'\n",
        "print (\"Performance da carteira A:\",port_a)"
      ],
      "execution_count": null,
      "outputs": [
        {
          "output_type": "stream",
          "text": [
            "Performance da carteira A: 23.23 %\n"
          ],
          "name": "stdout"
        }
      ]
    },
    {
      "cell_type": "code",
      "metadata": {
        "colab": {
          "base_uri": "https://localhost:8080/"
        },
        "id": "N3VCjW4s-Mxq",
        "outputId": "22f8097f-1aa1-48b9-e1ed-007d8bec39f5"
      },
      "source": [
        "perform_anual1 = perform.mean()* 250\n",
        "perform_anual1"
      ],
      "execution_count": null,
      "outputs": [
        {
          "output_type": "execute_result",
          "data": {
            "text/plain": [
              "JBSS3.SA    0.304888\n",
              "MRFG3.SA    0.167478\n",
              "LAME4.SA    0.204335\n",
              "UGPA3.SA    0.131478\n",
              "dtype: float64"
            ]
          },
          "metadata": {
            "tags": []
          },
          "execution_count": 40
        }
      ]
    },
    {
      "cell_type": "markdown",
      "metadata": {
        "id": "c6Ifxqkx-Mxq"
      },
      "source": [
        "***"
      ]
    },
    {
      "cell_type": "markdown",
      "metadata": {
        "id": "tssqmK7D-Mxq"
      },
      "source": [
        "### Composição da carteira 'B' de ações: 10% da JBS, 60% da Marfrig, 25% Lojas Americanas e 5% Ultrapar."
      ]
    },
    {
      "cell_type": "code",
      "metadata": {
        "colab": {
          "base_uri": "https://localhost:8080/",
          "height": 167
        },
        "id": "JmbkPgtE-Mxq",
        "outputId": "1434e9f1-315f-4544-81a0-7b91743de438"
      },
      "source": [
        "distrib_B  = pd.DataFrame([[\"JBS\",0.10],[ \"MARFRIG\", 0.60],[\"AMERICANAS\", 0.25],[\"ULTRAPAR\",0.05]],index=range(0,4), columns= ['Ação', 'Peso %'])\n",
        "distrib_B"
      ],
      "execution_count": null,
      "outputs": [
        {
          "output_type": "execute_result",
          "data": {
            "text/html": [
              "<div>\n",
              "<style scoped>\n",
              "    .dataframe tbody tr th:only-of-type {\n",
              "        vertical-align: middle;\n",
              "    }\n",
              "\n",
              "    .dataframe tbody tr th {\n",
              "        vertical-align: top;\n",
              "    }\n",
              "\n",
              "    .dataframe thead th {\n",
              "        text-align: right;\n",
              "    }\n",
              "</style>\n",
              "<table border=\"1\" class=\"dataframe\">\n",
              "  <thead>\n",
              "    <tr style=\"text-align: right;\">\n",
              "      <th></th>\n",
              "      <th>Ação</th>\n",
              "      <th>Peso %</th>\n",
              "    </tr>\n",
              "  </thead>\n",
              "  <tbody>\n",
              "    <tr>\n",
              "      <th>0</th>\n",
              "      <td>JBS</td>\n",
              "      <td>0.10</td>\n",
              "    </tr>\n",
              "    <tr>\n",
              "      <th>1</th>\n",
              "      <td>MARFRIG</td>\n",
              "      <td>0.60</td>\n",
              "    </tr>\n",
              "    <tr>\n",
              "      <th>2</th>\n",
              "      <td>AMERICANAS</td>\n",
              "      <td>0.25</td>\n",
              "    </tr>\n",
              "    <tr>\n",
              "      <th>3</th>\n",
              "      <td>ULTRAPAR</td>\n",
              "      <td>0.05</td>\n",
              "    </tr>\n",
              "  </tbody>\n",
              "</table>\n",
              "</div>"
            ],
            "text/plain": [
              "         Ação  Peso %\n",
              "0         JBS    0.10\n",
              "1     MARFRIG    0.60\n",
              "2  AMERICANAS    0.25\n",
              "3    ULTRAPAR    0.05"
            ]
          },
          "metadata": {
            "tags": []
          },
          "execution_count": 41
        }
      ]
    },
    {
      "cell_type": "code",
      "metadata": {
        "colab": {
          "base_uri": "https://localhost:8080/",
          "height": 278
        },
        "id": "4K25_z_U-Mxr",
        "outputId": "3a18be67-e09a-4fe6-957e-0a2d0f2a20b8"
      },
      "source": [
        "sns.barplot(x= distrib_B[\"Ação\"], y=distrib_B[\"Peso %\"], palette=\"deep\");"
      ],
      "execution_count": null,
      "outputs": [
        {
          "output_type": "display_data",
          "data": {
            "image/png": "[encoded data removed]",
            "text/plain": [
              "<Figure size 432x288 with 1 Axes>"
            ]
          },
          "metadata": {
            "tags": [],
            "needs_background": "light"
          }
        }
      ]
    },
    {
      "cell_type": "markdown",
      "metadata": {
        "id": "7L9vRK2s-Mxr"
      },
      "source": [
        "### Performance Anual da Carteira B:"
      ]
    },
    {
      "cell_type": "code",
      "metadata": {
        "colab": {
          "base_uri": "https://localhost:8080/"
        },
        "id": "2Kn76Q0L-Mxr",
        "outputId": "4281f5d9-41e8-4ef6-d109-95d1e5cf4fe8"
      },
      "source": [
        "np.dot(perform_anual, distrib_B[\"Peso %\"])"
      ],
      "execution_count": null,
      "outputs": [
        {
          "output_type": "execute_result",
          "data": {
            "text/plain": [
              "0.1886331122327778"
            ]
          },
          "metadata": {
            "tags": []
          },
          "execution_count": 43
        }
      ]
    },
    {
      "cell_type": "code",
      "metadata": {
        "colab": {
          "base_uri": "https://localhost:8080/"
        },
        "id": "kHpBsCg9-Mxs",
        "outputId": "e76b746e-6c66-4da8-cefa-149c6f15eb13"
      },
      "source": [
        "port_b = str(round(np.dot(perform_anual, distrib_B['Peso %']), 4)*100 ) + ' %'\n",
        "print (\"Performance da carteira B:\",port_b)"
      ],
      "execution_count": null,
      "outputs": [
        {
          "output_type": "stream",
          "text": [
            "Performance da carteira B: 18.86 %\n"
          ],
          "name": "stdout"
        }
      ]
    },
    {
      "cell_type": "code",
      "metadata": {
        "colab": {
          "base_uri": "https://localhost:8080/"
        },
        "id": "ahV8sFf2-Mxs",
        "outputId": "387b727c-3f70-444d-cb73-01cc73d30c49"
      },
      "source": [
        "print ('Carteira A:',port_a)\n",
        "print ('Carteira B:',port_b)"
      ],
      "execution_count": null,
      "outputs": [
        {
          "output_type": "stream",
          "text": [
            "Carteira A: 23.23 %\n",
            "Carteira B: 18.86 %\n"
          ],
          "name": "stdout"
        }
      ]
    }
  ]
}